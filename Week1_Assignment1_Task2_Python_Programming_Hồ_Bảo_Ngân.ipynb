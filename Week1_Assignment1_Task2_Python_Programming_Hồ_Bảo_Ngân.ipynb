{
  "nbformat": 4,
  "nbformat_minor": 0,
  "metadata": {
    "colab": {
      "name": "Week1_Assignment1_Task2_Python_Programming_Hồ_Bảo_Ngân.ipynb",
      "provenance": [],
      "authorship_tag": "ABX9TyM7pVR8Ms/Ygnqr71upYhaR",
      "include_colab_link": true
    },
    "kernelspec": {
      "name": "python3",
      "display_name": "Python 3"
    },
    "language_info": {
      "name": "python"
    }
  },
  "cells": [
    {
      "cell_type": "markdown",
      "metadata": {
        "id": "view-in-github",
        "colab_type": "text"
      },
      "source": [
        "<a href=\"https://colab.research.google.com/github/annaho124/datacracy-atom-Ho_Bao_Ngan/blob/main/Week1_Assignment1_Task2_Python_Programming_H%E1%BB%93_B%E1%BA%A3o_Ng%C3%A2n.ipynb\" target=\"_parent\"><img src=\"https://colab.research.google.com/assets/colab-badge.svg\" alt=\"Open In Colab\"/></a>"
      ]
    },
    {
      "cell_type": "markdown",
      "metadata": {
        "id": "RubUklYZAOqd"
      },
      "source": [
        "#Python Basic: Your First Program"
      ]
    },
    {
      "cell_type": "code",
      "metadata": {
        "colab": {
          "base_uri": "https://localhost:8080/"
        },
        "id": "g5XDC-wg4Hoe",
        "outputId": "4fc6f423-e8f3-490c-c25f-7945f59fd49e"
      },
      "source": [
        "#This program says hello and asks for my name\n",
        "\n",
        "print('Hello, world!')\n",
        "print('What is your name?') #ask for their name\n",
        "\n",
        "myName = input()\n",
        "print('It is good to meet you, ' + myName)\n",
        "print('The length of your name is:')\n",
        "print(len(myName))\n",
        "\n",
        "print('What is your age?') #ask for their age\n",
        "myAge = input()\n",
        "print('You will be ' + str(int(myAge) + 1) + ' in a year.')"
      ],
      "execution_count": null,
      "outputs": [
        {
          "output_type": "stream",
          "text": [
            "Hello, world!\n",
            "What is your name?\n",
            "Ngan\n",
            "It is good to meet you, Ngan\n",
            "The length of your name is:\n",
            "4\n",
            "What is your age?\n",
            "22\n",
            "You will be 23 in a year.\n"
          ],
          "name": "stdout"
        }
      ]
    },
    {
      "cell_type": "markdown",
      "metadata": {
        "id": "ehwyKHlhAULh"
      },
      "source": [
        "#Flow Control - A Short Program: Rock, Paper and Scissors"
      ]
    },
    {
      "cell_type": "code",
      "metadata": {
        "colab": {
          "base_uri": "https://localhost:8080/"
        },
        "id": "GdOhzRlp_qu7",
        "outputId": "ae1066ad-0e1a-4b13-e678-00a6917851a1"
      },
      "source": [
        "name = 'Mary'\n",
        "password = 'swordfish'\n",
        "\n",
        "if name == 'Mary':\n",
        "  print('Hello Mary!')\n",
        "  if password == 'swordfish':\n",
        "    print('Access granted')\n",
        "  else:\n",
        "    print('Wrong password')"
      ],
      "execution_count": null,
      "outputs": [
        {
          "output_type": "stream",
          "text": [
            "Hello Mary!\n",
            "Access granted\n"
          ],
          "name": "stdout"
        }
      ]
    }
  ]
}